{
 "cells": [
  {
   "cell_type": "code",
   "execution_count": 1,
   "id": "30e73ccd-e032-40a0-b197-60d062e52f3c",
   "metadata": {},
   "outputs": [],
   "source": [
    "import numpy as np\n",
    "import pandas as pd\n",
    "import matplotlib.pyplot as plt"
   ]
  },
  {
   "cell_type": "markdown",
   "id": "129f5f2e-17c4-40b5-b660-052c9d56e039",
   "metadata": {},
   "source": [
    "# Variables"
   ]
  },
  {
   "cell_type": "code",
   "execution_count": 2,
   "id": "8462c017-1a8d-4ac9-8bd7-c44948bf9315",
   "metadata": {},
   "outputs": [],
   "source": [
    "T_e=1\n",
    "T=10\n",
    "sigma_Q=1\n",
    "sigma_px=30\n",
    "sigma_py=30"
   ]
  },
  {
   "cell_type": "code",
   "execution_count": 3,
   "id": "bbb26837-7378-4e5e-b89b-5d7a1b9f2ad9",
   "metadata": {},
   "outputs": [],
   "source": [
    "F=np.array([[1,T_e,0,0],[0,1,0,0],[0,0,1,T_e],[0,0,0,1]])\n",
    "Q=sigma_Q*np.array([[T_e**3/3,T_e**2/2,0,0],[T_e**2/2,T_e,0,0],[0,0,T_e**3/3,T_e**2/2],[0,0,T_e**2,T_e]])\n",
    "H=np.array('1 0 0 0; 0 0 1 0')\n",
    "R=np.array([[sigma_px**2,0],[0,sigma_py**2]])"
   ]
  },
  {
   "cell_type": "code",
   "execution_count": 4,
   "id": "aebfe607-0f52-4f7e-95d2-631bb4c778db",
   "metadata": {},
   "outputs": [],
   "source": [
    "x_init=np.array([[3],[40],[-4],[2]])\n",
    "x_kalm=x_init\n",
    "P_kalm=np.identity(4)"
   ]
  },
  {
   "cell_type": "markdown",
   "id": "0a0dc628-8fc0-4062-a1d5-badf8ca4ef11",
   "metadata": {},
   "source": [
    "# Fonctions"
   ]
  },
  {
   "cell_type": "code",
   "execution_count": 54,
   "id": "f635a79c-e499-4526-89e6-76a559584031",
   "metadata": {},
   "outputs": [
    {
     "name": "stdout",
     "output_type": "stream",
     "text": [
      "[[43.16400583]\n",
      " [40.77886339]\n",
      " [-1.26828824]\n",
      " [ 3.36852191]]\n",
      "[[83.51016814]\n",
      " [40.41225772]\n",
      " [ 3.179064  ]\n",
      " [ 4.93328333]]\n",
      "[[122.98922379]\n",
      " [ 38.02128183]\n",
      " [  8.5658098 ]\n",
      " [  4.48201081]]\n",
      "[[161.53689922]\n",
      " [ 38.93074856]\n",
      " [ 12.93167967]\n",
      " [  4.22163092]]\n",
      "[[199.87039241]\n",
      " [ 37.76871444]\n",
      " [ 18.03371924]\n",
      " [  5.4280524 ]]\n",
      "[[237.56942804]\n",
      " [ 39.04983935]\n",
      " [ 23.17692493]\n",
      " [  5.9233243 ]]\n",
      "[[276.68308766]\n",
      " [ 38.2364918 ]\n",
      " [ 29.84831209]\n",
      " [  6.67680619]]\n",
      "[[313.75062073]\n",
      " [ 36.77751345]\n",
      " [ 37.02341512]\n",
      " [  7.16164179]]\n",
      "[[350.67953261]\n",
      " [ 37.18936609]\n",
      " [ 43.93060511]\n",
      " [  6.46625688]]\n",
      "[[388.45139226]\n",
      " [ 38.19905313]\n",
      " [ 51.30691198]\n",
      " [  7.6752794 ]]\n",
      "[[ 43.16400583  83.51016814 122.98922379 161.53689922 199.87039241\n",
      "  237.56942804 276.68308766 313.75062073 350.67953261 388.45139226]\n",
      " [ 40.77886339  40.41225772  38.02128183  38.93074856  37.76871444\n",
      "   39.04983935  38.2364918   36.77751345  37.18936609  38.19905313]\n",
      " [ -1.26828824   3.179064     8.5658098   12.93167967  18.03371924\n",
      "   23.17692493  29.84831209  37.02341512  43.93060511  51.30691198]\n",
      " [  3.36852191   4.93328333   4.48201081   4.22163092   5.4280524\n",
      "    5.9233243    6.67680619   7.16164179   6.46625688   7.6752794 ]]\n"
     ]
    },
    {
     "name": "stderr",
     "output_type": "stream",
     "text": [
      "/tmp/ipykernel_902774/318058670.py:5: RuntimeWarning: covariance is not symmetric positive-semidefinite.\n",
      "  U=np.random.multivariate_normal([0,0,0,0],Q).reshape((4,1))\n"
     ]
    }
   ],
   "source": [
    "def creer_trajectoire(F=F,Q=Q,x_init=x_init,T=T):\n",
    "    x=x_init\n",
    "    vecteur_x=np.zeros((4,T))\n",
    "    for n in range(T):\n",
    "        U=np.random.multivariate_normal([0,0,0,0],Q).reshape((4,1))\n",
    "        x=F@x+U\n",
    "        for k in range(4):\n",
    "            vecteur_x[:,n]=x.reshape((4,))\n",
    "    return vecteur_x\n",
    "print(creer_trajectoire())"
   ]
  },
  {
   "cell_type": "code",
   "execution_count": 23,
   "id": "a673a723-4095-40cf-a6bc-fdd4b787fedf",
   "metadata": {},
   "outputs": [],
   "source": [
    "def creer_observation(H=H,R=R,vecteur_x=vecteyr,T):\n",
    "    vecteur_y=np.zeros((2,T))\n",
    "    for n in range(T):\n",
    "        x=vecteur_x[:,n]\n",
    "        V=np.random.multivariate_normal(np.zeros(2,1),Q,size=(4,1))\n",
    "        y=np.matmul(h,x)+V\n",
    "    return vecteur_y"
   ]
  },
  {
   "cell_type": "markdown",
   "id": "ee19604b-47a1-4b82-bed5-0929768e9716",
   "metadata": {},
   "source": [
    "# Main"
   ]
  },
  {
   "cell_type": "code",
   "execution_count": 21,
   "id": "9d39f55b-131e-420e-b915-0bfa19e2d077",
   "metadata": {},
   "outputs": [
    {
     "name": "stderr",
     "output_type": "stream",
     "text": [
      "/tmp/ipykernel_902774/2705091756.py:8: DeprecationWarning: Conversion of an array with ndim > 0 to a scalar is deprecated, and will error in future. Ensure you extract a single element from your array before performing this operation. (Deprecated NumPy 1.25.)\n",
      "  vecteur_x[k][n]=x[k]\n"
     ]
    }
   ],
   "source": [
    "vecteur_x=creer_trajectoire()"
   ]
  },
  {
   "cell_type": "code",
   "execution_count": 12,
   "id": "50ba3920-1391-441a-97b8-efadf00800c9",
   "metadata": {
    "scrolled": true
   },
   "outputs": [
    {
     "data": {
      "text/plain": [
       "array([40.86436581, 42.39886565, -2.80280243,  0.46162697])"
      ]
     },
     "execution_count": 12,
     "metadata": {},
     "output_type": "execute_result"
    }
   ],
   "source": [
    "vecteur_x[:,0]"
   ]
  },
  {
   "cell_type": "code",
   "execution_count": null,
   "id": "4c51a62d-34a0-44f4-b74d-20db5ab1d056",
   "metadata": {},
   "outputs": [],
   "source": []
  }
 ],
 "metadata": {
  "kernelspec": {
   "display_name": "Python 3 (ipykernel)",
   "language": "python",
   "name": "python3"
  },
  "language_info": {
   "codemirror_mode": {
    "name": "ipython",
    "version": 3
   },
   "file_extension": ".py",
   "mimetype": "text/x-python",
   "name": "python",
   "nbconvert_exporter": "python",
   "pygments_lexer": "ipython3",
   "version": "3.12.0"
  }
 },
 "nbformat": 4,
 "nbformat_minor": 5
}
