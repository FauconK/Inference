{
 "cells": [
  {
   "cell_type": "code",
   "execution_count": null,
   "id": "30e73ccd-e032-40a0-b197-60d062e52f3c",
   "metadata": {},
   "outputs": [],
   "source": [
    "import numpy as np\n",
    "import pandas as pd\n",
    "import matplotlib.pyplot as plt"
   ]
  },
  {
   "cell_type": "markdown",
   "id": "129f5f2e-17c4-40b5-b660-052c9d56e039",
   "metadata": {},
   "source": [
    "# Variables"
   ]
  },
  {
   "cell_type": "code",
   "execution_count": null,
   "id": "8462c017-1a8d-4ac9-8bd7-c44948bf9315",
   "metadata": {},
   "outputs": [],
   "source": [
    "T_e=1\n",
    "T=100\n",
    "sigma_Q=1\n",
    "sigma_px=30\n",
    "sigma_py=30"
   ]
  },
  {
   "cell_type": "code",
   "execution_count": null,
   "id": "bbb26837-7378-4e5e-b89b-5d7a1b9f2ad9",
   "metadata": {},
   "outputs": [],
   "source": [
    "F=np.array([[1,T_e,0,0],[0,1,0,0],[0,0,1,T_e],[0,0,0,1]])\n",
    "Q=sigma_Q*np.array([[T_e**3/3,T_e**2/2,0,0],[T_e**2/2,T_e,0,0],[0,0,T_e**3/3,T_e**2/2],[0,0,T_e**2,T_e]])\n",
    "H=np.array([[1,0,0,0],[0,0,1,0]])\n",
    "R=np.array([[sigma_px**2,0],[0,sigma_py**2]])"
   ]
  },
  {
   "cell_type": "code",
   "execution_count": null,
   "id": "aebfe607-0f52-4f7e-95d2-631bb4c778db",
   "metadata": {},
   "outputs": [],
   "source": [
    "x_init=np.array([[3],[40],[-4],[20]])\n",
    "x_kalm=x_init\n",
    "P_kalm=np.identity(4)"
   ]
  },
  {
   "cell_type": "markdown",
   "id": "0a0dc628-8fc0-4062-a1d5-badf8ca4ef11",
   "metadata": {},
   "source": [
    "# Fonctions"
   ]
  },
  {
   "cell_type": "code",
   "execution_count": null,
   "id": "f635a79c-e499-4526-89e6-76a559584031",
   "metadata": {},
   "outputs": [],
   "source": [
    "def creer_trajectoire(F=F,Q=Q,x_init=x_init,T=T):\n",
    "    x=x_init\n",
    "    vecteur_x=np.zeros((4,T))\n",
    "    for n in range(T):\n",
    "        U=np.random.multivariate_normal([0,0,0,0],Q).reshape((4,1))\n",
    "        x=F@x+U\n",
    "        vecteur_x[:,n]=x.reshape((4,))\n",
    "    return vecteur_x\n",
    "vecteur_x=creer_trajectoire()"
   ]
  },
  {
   "cell_type": "code",
   "execution_count": null,
   "id": "a673a723-4095-40cf-a6bc-fdd4b787fedf",
   "metadata": {},
   "outputs": [],
   "source": [
    "def creer_observation(H=H,R=R,vecteur_x=vecteur_x,T=T):\n",
    "    vecteur_y=np.zeros((2,T))\n",
    "    for n in range(T):\n",
    "        x=vecteur_x[:,n]\n",
    "        V=np.random.multivariate_normal([0,0],R).reshape((2,1))\n",
    "        y=H@x+V.T\n",
    "        vecteur_y[:,n]=y.reshape((2,))\n",
    "    return vecteur_y"
   ]
  },
  {
   "cell_type": "code",
   "execution_count": null,
   "id": "58d07591-200b-432b-bea0-307b4a470a7e",
   "metadata": {},
   "outputs": [],
   "source": [
    "def filtre_de_kalman(y_k,x_kalm_prec,P_kalm_prec,F=F,Q=Q,H=H,R=R):\n",
    "    x_kalm=F@x_kalm_prec\n",
    "    print(x_kalm.shape())\n",
    "    P_kalm=F@P_kalm_prec@F.T + Q\n",
    "    print(P_kalm.shape())\n",
    "    temp=H@P_kalm@H.T+R\n",
    "    temp=np.linalg.inv(temp)\n",
    "    K=P_kalm@H.T@temp\n",
    "    print(k.shape())\n",
    "    P_kalm_k=(np.identity(4) + K@H)@P_kalm\n",
    "    print(P_kalm_k.shape())\n",
    "    x_kalm_k=x_kalm+K@(y_k-H@x_kalm)\n",
    "    print(x_kalm_k.shape())\n",
    "    return x_kalm_k,P_kalm_k"
   ]
  },
  {
   "cell_type": "code",
   "execution_count": null,
   "id": "0d23b081-9a23-4649-97af-d3213adaf18f",
   "metadata": {},
   "outputs": [],
   "source": [
    "def kalman_recursif(vecteur_y,vecteur_y0,x_kalm=x_kalm,P_kalm=P_kalm,T=T):\n",
    "    x_est=np.zeros((4,T))\n",
    "    x_est[:,0]=x_kalm.reshape((4,))\n",
    "    for n in range(1,T):\n",
    "        x_kalm,P_kalm=filtre_de_kalman(vecteur_y[:,n],x_kalm,P_kalm)\n",
    "        x_est[:,n]=x_kalm\n",
    "    return x_est"
   ]
  },
  {
   "cell_type": "markdown",
   "id": "ee19604b-47a1-4b82-bed5-0929768e9716",
   "metadata": {},
   "source": [
    "# Main"
   ]
  },
  {
   "cell_type": "code",
   "execution_count": null,
   "id": "9d39f55b-131e-420e-b915-0bfa19e2d077",
   "metadata": {},
   "outputs": [],
   "source": [
    "vecteur_x=creer_trajectoire()\n",
    "vecteur_y=creer_observation()\n",
    "x_est=kalman_recursif(vecteur_y,x_init)"
   ]
  },
  {
   "cell_type": "code",
   "execution_count": null,
   "id": "4c51a62d-34a0-44f4-b74d-20db5ab1d056",
   "metadata": {},
   "outputs": [],
   "source": [
    "dfx=pd.DataFrame(vecteur_x.T,columns=['px','px.','py','py.'])\n",
    "dfy=pd.DataFrame(vecteur_y.T,columns=['Opx','Opy'])\n",
    "df=pd.concat([dfx,dfy],axis=1)"
   ]
  },
  {
   "cell_type": "code",
   "execution_count": null,
   "id": "7f063298-ec1a-4a6b-9b53-5954d742f4f0",
   "metadata": {},
   "outputs": [],
   "source": [
    "df"
   ]
  },
  {
   "cell_type": "code",
   "execution_count": null,
   "id": "844702fa-8861-4989-b8e4-427319adeeae",
   "metadata": {},
   "outputs": [],
   "source": [
    "# Assuming df is your DataFrame\n",
    "plt.plot(df['px'], df['py'], label='reel')\n",
    "plt.plot(df['Opx'], df['Opy'], label='observation')\n",
    "\n",
    "# Set labels and title\n",
    "plt.xlabel('X-axis label')\n",
    "plt.ylabel('Y-axis label')\n",
    "plt.title('reel vs observation')\n",
    "\n",
    "# Show legend\n",
    "plt.legend()\n",
    "\n",
    "# Show the plot\n",
    "plt.show()\n"
   ]
  },
  {
   "cell_type": "code",
   "execution_count": null,
   "id": "6d328d76-d898-4cdf-a97c-87e471bef853",
   "metadata": {},
   "outputs": [],
   "source": []
  }
 ],
 "metadata": {
  "kernelspec": {
   "display_name": "Python 3 (ipykernel)",
   "language": "python",
   "name": "python3"
  },
  "language_info": {
   "codemirror_mode": {
    "name": "ipython",
    "version": 3
   },
   "file_extension": ".py",
   "mimetype": "text/x-python",
   "name": "python",
   "nbconvert_exporter": "python",
   "pygments_lexer": "ipython3",
   "version": "3.12.0"
  }
 },
 "nbformat": 4,
 "nbformat_minor": 5
}
