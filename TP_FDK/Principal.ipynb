{
 "cells": [
  {
   "cell_type": "code",
   "execution_count": 1,
   "id": "30e73ccd-e032-40a0-b197-60d062e52f3c",
   "metadata": {},
   "outputs": [],
   "source": [
    "import numpy as np\n",
    "import pandas as pd\n",
    "import matplotlib.pyplot as plt"
   ]
  },
  {
   "cell_type": "markdown",
   "id": "129f5f2e-17c4-40b5-b660-052c9d56e039",
   "metadata": {},
   "source": [
    "# Variables"
   ]
  },
  {
   "cell_type": "code",
   "execution_count": 2,
   "id": "8462c017-1a8d-4ac9-8bd7-c44948bf9315",
   "metadata": {},
   "outputs": [],
   "source": [
    "T_e=1\n",
    "T=100\n",
    "sigma_Q=1\n",
    "sigma_px=30\n",
    "sigma_py=30"
   ]
  },
  {
   "cell_type": "code",
   "execution_count": 3,
   "id": "bbb26837-7378-4e5e-b89b-5d7a1b9f2ad9",
   "metadata": {},
   "outputs": [],
   "source": [
    "F=np.array([[1,T_e,0,0],[0,1,0,0],[0,0,1,T_e],[0,0,0,1]])\n",
    "Q=sigma_Q*np.array([[T_e**3/3,T_e**2/2,0,0],[T_e**2/2,T_e,0,0],[0,0,T_e**3/3,T_e**2/2],[0,0,T_e**2,T_e]])\n",
    "H=np.array([[1,0,0,0],[0,0,1,0]])\n",
    "R=np.array([[sigma_px**2,0],[0,sigma_py**2]])"
   ]
  },
  {
   "cell_type": "code",
   "execution_count": 4,
   "id": "aebfe607-0f52-4f7e-95d2-631bb4c778db",
   "metadata": {},
   "outputs": [],
   "source": [
    "x_init=np.array([[3],[40],[-4],[20]])\n",
    "x_kalm=x_init\n",
    "P_kalm=np.identity(4)"
   ]
  },
  {
   "cell_type": "markdown",
   "id": "0a0dc628-8fc0-4062-a1d5-badf8ca4ef11",
   "metadata": {},
   "source": [
    "# Fonctions"
   ]
  },
  {
   "cell_type": "code",
   "execution_count": 7,
   "id": "f635a79c-e499-4526-89e6-76a559584031",
   "metadata": {},
   "outputs": [
    {
     "name": "stderr",
     "output_type": "stream",
     "text": [
      "/tmp/ipykernel_1020073/1059972482.py:5: RuntimeWarning: covariance is not symmetric positive-semidefinite.\n",
      "  U=np.random.multivariate_normal([0,0,0,0],Q).reshape((4,1))\n"
     ]
    }
   ],
   "source": [
    "def creer_trajectoire(F=F,Q=Q,x_init=x_init,T=T):\n",
    "    x=x_init\n",
    "    vecteur_x=np.zeros((4,T))\n",
    "    for n in range(T):\n",
    "        U=np.random.multivariate_normal([0,0,0,0],Q).reshape((4,1))\n",
    "        x=F@x+U\n",
    "        vecteur_x[:,n]=x.reshape((4,))\n",
    "    return vecteur_x\n",
    "vecteur_x=creer_trajectoire()"
   ]
  },
  {
   "cell_type": "code",
   "execution_count": 8,
   "id": "a673a723-4095-40cf-a6bc-fdd4b787fedf",
   "metadata": {},
   "outputs": [],
   "source": [
    "def creer_observation(H=H,R=R,vecteur_x=vecteur_x,T=T):\n",
    "    vecteur_y=np.zeros((2,T))\n",
    "    for n in range(T):\n",
    "        x=vecteur_x[:,n]\n",
    "        V=np.random.multivariate_normal([0,0],R).reshape((2,1))\n",
    "        y=H@x+V.T\n",
    "        vecteur_y[:,n]=y.reshape((2,))\n",
    "    return vecteur_y"
   ]
  },
  {
   "cell_type": "markdown",
   "id": "ee19604b-47a1-4b82-bed5-0929768e9716",
   "metadata": {},
   "source": [
    "# Main"
   ]
  },
  {
   "cell_type": "code",
   "execution_count": 9,
   "id": "9d39f55b-131e-420e-b915-0bfa19e2d077",
   "metadata": {},
   "outputs": [
    {
     "name": "stderr",
     "output_type": "stream",
     "text": [
      "/tmp/ipykernel_1020073/1059972482.py:5: RuntimeWarning: covariance is not symmetric positive-semidefinite.\n",
      "  U=np.random.multivariate_normal([0,0,0,0],Q).reshape((4,1))\n"
     ]
    }
   ],
   "source": [
    "vecteur_x=creer_trajectoire()\n",
    "vecteur_y=creer_observation()"
   ]
  },
  {
   "cell_type": "code",
   "execution_count": 25,
   "id": "4c51a62d-34a0-44f4-b74d-20db5ab1d056",
   "metadata": {},
   "outputs": [],
   "source": [
    "dfx=pd.DataFrame(vecteur_x.T,columns=['px','px.','py','py.'])\n",
    "dfy=pd.DataFrame(vecteur_y.T,columns=['Opx','Opy'])\n",
    "df=pd.concat([dfx,dfy],axis=1)"
   ]
  },
  {
   "cell_type": "code",
   "execution_count": 17,
   "id": "7f063298-ec1a-4a6b-9b53-5954d742f4f0",
   "metadata": {},
   "outputs": [
    {
     "data": {
      "text/html": [
       "<div>\n",
       "<style scoped>\n",
       "    .dataframe tbody tr th:only-of-type {\n",
       "        vertical-align: middle;\n",
       "    }\n",
       "\n",
       "    .dataframe tbody tr th {\n",
       "        vertical-align: top;\n",
       "    }\n",
       "\n",
       "    .dataframe thead th {\n",
       "        text-align: right;\n",
       "    }\n",
       "</style>\n",
       "<table border=\"1\" class=\"dataframe\">\n",
       "  <thead>\n",
       "    <tr style=\"text-align: right;\">\n",
       "      <th></th>\n",
       "      <th>px</th>\n",
       "      <th>px.</th>\n",
       "      <th>py</th>\n",
       "      <th>py.</th>\n",
       "      <th>Opx</th>\n",
       "      <th>Opy</th>\n",
       "    </tr>\n",
       "  </thead>\n",
       "  <tbody>\n",
       "    <tr>\n",
       "      <th>0</th>\n",
       "      <td>43.458173</td>\n",
       "      <td>40.425865</td>\n",
       "      <td>16.473232</td>\n",
       "      <td>21.373739</td>\n",
       "      <td>41.365871</td>\n",
       "      <td>21.106460</td>\n",
       "    </tr>\n",
       "    <tr>\n",
       "      <th>1</th>\n",
       "      <td>84.188800</td>\n",
       "      <td>41.147266</td>\n",
       "      <td>38.160871</td>\n",
       "      <td>22.107590</td>\n",
       "      <td>91.165087</td>\n",
       "      <td>60.907123</td>\n",
       "    </tr>\n",
       "    <tr>\n",
       "      <th>2</th>\n",
       "      <td>126.656713</td>\n",
       "      <td>43.500770</td>\n",
       "      <td>61.316122</td>\n",
       "      <td>23.130764</td>\n",
       "      <td>157.542833</td>\n",
       "      <td>57.109568</td>\n",
       "    </tr>\n",
       "    <tr>\n",
       "      <th>3</th>\n",
       "      <td>169.655623</td>\n",
       "      <td>41.967664</td>\n",
       "      <td>82.608898</td>\n",
       "      <td>21.337507</td>\n",
       "      <td>145.850397</td>\n",
       "      <td>107.779970</td>\n",
       "    </tr>\n",
       "    <tr>\n",
       "      <th>4</th>\n",
       "      <td>211.238537</td>\n",
       "      <td>41.380800</td>\n",
       "      <td>102.780797</td>\n",
       "      <td>20.360707</td>\n",
       "      <td>216.923279</td>\n",
       "      <td>65.726729</td>\n",
       "    </tr>\n",
       "    <tr>\n",
       "      <th>...</th>\n",
       "      <td>...</td>\n",
       "      <td>...</td>\n",
       "      <td>...</td>\n",
       "      <td>...</td>\n",
       "      <td>...</td>\n",
       "      <td>...</td>\n",
       "    </tr>\n",
       "    <tr>\n",
       "      <th>95</th>\n",
       "      <td>4064.309940</td>\n",
       "      <td>50.983110</td>\n",
       "      <td>1491.580791</td>\n",
       "      <td>19.689286</td>\n",
       "      <td>4509.209288</td>\n",
       "      <td>1955.895551</td>\n",
       "    </tr>\n",
       "    <tr>\n",
       "      <th>96</th>\n",
       "      <td>4114.648398</td>\n",
       "      <td>50.006512</td>\n",
       "      <td>1512.334473</td>\n",
       "      <td>20.270683</td>\n",
       "      <td>4545.526639</td>\n",
       "      <td>1930.926528</td>\n",
       "    </tr>\n",
       "    <tr>\n",
       "      <th>97</th>\n",
       "      <td>4165.134194</td>\n",
       "      <td>50.939387</td>\n",
       "      <td>1531.602983</td>\n",
       "      <td>18.839444</td>\n",
       "      <td>4579.450595</td>\n",
       "      <td>1948.764871</td>\n",
       "    </tr>\n",
       "    <tr>\n",
       "      <th>98</th>\n",
       "      <td>4215.875870</td>\n",
       "      <td>50.098123</td>\n",
       "      <td>1549.729709</td>\n",
       "      <td>18.161212</td>\n",
       "      <td>4651.052264</td>\n",
       "      <td>1956.522982</td>\n",
       "    </tr>\n",
       "    <tr>\n",
       "      <th>99</th>\n",
       "      <td>4265.597414</td>\n",
       "      <td>48.848090</td>\n",
       "      <td>1569.596053</td>\n",
       "      <td>19.855980</td>\n",
       "      <td>4691.700998</td>\n",
       "      <td>1993.516457</td>\n",
       "    </tr>\n",
       "  </tbody>\n",
       "</table>\n",
       "<p>100 rows × 6 columns</p>\n",
       "</div>"
      ],
      "text/plain": [
       "             px        px.           py        py.          Opx          Opy\n",
       "0     43.458173  40.425865    16.473232  21.373739    41.365871    21.106460\n",
       "1     84.188800  41.147266    38.160871  22.107590    91.165087    60.907123\n",
       "2    126.656713  43.500770    61.316122  23.130764   157.542833    57.109568\n",
       "3    169.655623  41.967664    82.608898  21.337507   145.850397   107.779970\n",
       "4    211.238537  41.380800   102.780797  20.360707   216.923279    65.726729\n",
       "..          ...        ...          ...        ...          ...          ...\n",
       "95  4064.309940  50.983110  1491.580791  19.689286  4509.209288  1955.895551\n",
       "96  4114.648398  50.006512  1512.334473  20.270683  4545.526639  1930.926528\n",
       "97  4165.134194  50.939387  1531.602983  18.839444  4579.450595  1948.764871\n",
       "98  4215.875870  50.098123  1549.729709  18.161212  4651.052264  1956.522982\n",
       "99  4265.597414  48.848090  1569.596053  19.855980  4691.700998  1993.516457\n",
       "\n",
       "[100 rows x 6 columns]"
      ]
     },
     "execution_count": 17,
     "metadata": {},
     "output_type": "execute_result"
    }
   ],
   "source": [
    "df"
   ]
  },
  {
   "cell_type": "code",
   "execution_count": 27,
   "id": "844702fa-8861-4989-b8e4-427319adeeae",
   "metadata": {},
   "outputs": [
    {
     "data": {
      "image/png": "[encoded data removed]",
      "text/plain": [
       "<Figure size 640x480 with 1 Axes>"
      ]
     },
     "metadata": {},
     "output_type": "display_data"
    }
   ],
   "source": [
    "# Assuming df is your DataFrame\n",
    "plt.plot(df['px'], df['py'], label='reel')\n",
    "plt.plot(df['Opx'], df['Opy'], label='observation')\n",
    "\n",
    "# Set labels and title\n",
    "plt.xlabel('X-axis label')\n",
    "plt.ylabel('Y-axis label')\n",
    "plt.title('Combined Plot')\n",
    "\n",
    "# Show legend\n",
    "plt.legend()\n",
    "\n",
    "# Show the plot\n",
    "plt.show()\n"
   ]
  },
  {
   "cell_type": "code",
   "execution_count": null,
   "id": "6d328d76-d898-4cdf-a97c-87e471bef853",
   "metadata": {},
   "outputs": [],
   "source": []
  }
 ],
 "metadata": {
  "kernelspec": {
   "display_name": "Python 3 (ipykernel)",
   "language": "python",
   "name": "python3"
  },
  "language_info": {
   "codemirror_mode": {
    "name": "ipython",
    "version": 3
   },
   "file_extension": ".py",
   "mimetype": "text/x-python",
   "name": "python",
   "nbconvert_exporter": "python",
   "pygments_lexer": "ipython3",
   "version": "3.12.0"
  }
 },
 "nbformat": 4,
 "nbformat_minor": 5
}
