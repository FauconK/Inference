{
 "cells": [
  {
   "cell_type": "code",
   "execution_count": 1,
   "id": "30e73ccd-e032-40a0-b197-60d062e52f3c",
   "metadata": {},
   "outputs": [],
   "source": [
    "import numpy as np\n",
    "import pandas as pd\n",
    "import matplotlib.pyplot as plt"
   ]
  },
  {
   "cell_type": "markdown",
   "id": "129f5f2e-17c4-40b5-b660-052c9d56e039",
   "metadata": {},
   "source": [
    "# Variables"
   ]
  },
  {
   "cell_type": "code",
   "execution_count": 2,
   "id": "8462c017-1a8d-4ac9-8bd7-c44948bf9315",
   "metadata": {},
   "outputs": [],
   "source": [
    "T_e=1\n",
    "T=100\n",
    "sigma_Q=1\n",
    "sigma_px=30\n",
    "sigma_py=30"
   ]
  },
  {
   "cell_type": "code",
   "execution_count": 3,
   "id": "bbb26837-7378-4e5e-b89b-5d7a1b9f2ad9",
   "metadata": {},
   "outputs": [],
   "source": [
    "F=np.array([[1,T_e,0,0],[0,1,0,0],[0,0,1,T_e],[0,0,0,1]])\n",
    "Q=sigma_Q*np.array([[T_e**3/3,T_e**2/2,0,0],[T_e**2/2,T_e,0,0],[0,0,T_e**3/3,T_e**2/2],[0,0,T_e**2,T_e]])\n",
    "H=np.array([[1,0,0,0],[0,0,1,0]])\n",
    "R=np.array([[sigma_px**2,0],[0,sigma_py**2]])"
   ]
  },
  {
   "cell_type": "code",
   "execution_count": 4,
   "id": "aebfe607-0f52-4f7e-95d2-631bb4c778db",
   "metadata": {},
   "outputs": [],
   "source": [
    "x_init=np.array([[3],[40],[-4],[20]])\n",
    "x_kalm=x_init\n",
    "P_kalm=np.identity(4)"
   ]
  },
  {
   "cell_type": "markdown",
   "id": "0a0dc628-8fc0-4062-a1d5-badf8ca4ef11",
   "metadata": {},
   "source": [
    "# Fonctions"
   ]
  },
  {
   "cell_type": "code",
   "execution_count": 5,
   "id": "f635a79c-e499-4526-89e6-76a559584031",
   "metadata": {},
   "outputs": [
    {
     "name": "stderr",
     "output_type": "stream",
     "text": [
      "/tmp/ipykernel_1158377/1059972482.py:5: RuntimeWarning: covariance is not symmetric positive-semidefinite.\n",
      "  U=np.random.multivariate_normal([0,0,0,0],Q).reshape((4,1))\n"
     ]
    }
   ],
   "source": [
    "def creer_trajectoire(F=F,Q=Q,x_init=x_init,T=T):\n",
    "    x=x_init\n",
    "    vecteur_x=np.zeros((4,T))\n",
    "    for n in range(T):\n",
    "        U=np.random.multivariate_normal([0,0,0,0],Q).reshape((4,1))\n",
    "        x=F@x+U\n",
    "        vecteur_x[:,n]=x.reshape((4,))\n",
    "    return vecteur_x\n",
    "vecteur_x=creer_trajectoire()"
   ]
  },
  {
   "cell_type": "code",
   "execution_count": 6,
   "id": "a673a723-4095-40cf-a6bc-fdd4b787fedf",
   "metadata": {},
   "outputs": [],
   "source": [
    "def creer_observation(vecteur_x,H=H,R=R,T=T):\n",
    "    vecteur_y=np.zeros((2,T))\n",
    "    for n in range(T):\n",
    "        x=vecteur_x[:,n]\n",
    "        V=np.random.multivariate_normal([0,0],R).reshape((2,1))\n",
    "        y=H@x+V.T\n",
    "        vecteur_y[:,n]=y.reshape((2,))\n",
    "    return vecteur_y"
   ]
  },
  {
   "cell_type": "code",
   "execution_count": 48,
   "id": "58d07591-200b-432b-bea0-307b4a470a7e",
   "metadata": {},
   "outputs": [],
   "source": [
    "def filtre_de_kalman(y_k,x_kalm_prec,P_kalm_prec,F=F,Q=Q,H=H,R=R):\n",
    "    y_k=y_k.reshape((2,1))\n",
    "    x_kalm=F@x_kalm_prec\n",
    "    print(x_kalm.shape)\n",
    "    P_kalm=F@P_kalm_prec@F.T + Q\n",
    "    print(P_kalm.shape)\n",
    "    temp=H@P_kalm@H.T+R\n",
    "    temp=np.linalg.inv(temp)\n",
    "    K=P_kalm@H.T@temp\n",
    "    print(K.shape)\n",
    "    P_kalm_k=(np.identity(4) + K@H)@P_kalm\n",
    "    print(P_kalm_k.shape)\n",
    "    x_kalm_k=x_kalm+K@(y_k-H@x_kalm)\n",
    "    print(x_kalm_k)\n",
    "    return x_kalm_k,P_kalm_k"
   ]
  },
  {
   "cell_type": "code",
   "execution_count": 49,
   "id": "0d23b081-9a23-4649-97af-d3213adaf18f",
   "metadata": {},
   "outputs": [],
   "source": [
    "def kalman_recursif(vecteur_y,vecteur_y0,x_kalm=x_kalm,P_kalm=P_kalm,T=T):\n",
    "    x_est=np.zeros((4,T))\n",
    "    x_est[:,0]=x_kalm.reshape((4,))\n",
    "    for n in range(1,T):\n",
    "        x_kalm,P_kalm=filtre_de_kalman(vecteur_y[:,n],x_kalm,P_kalm)\n",
    "        x_est[:,n]=x_kalm\n",
    "    return x_est"
   ]
  },
  {
   "cell_type": "markdown",
   "id": "ee19604b-47a1-4b82-bed5-0929768e9716",
   "metadata": {},
   "source": [
    "# Main"
   ]
  },
  {
   "cell_type": "code",
   "execution_count": 50,
   "id": "9d39f55b-131e-420e-b915-0bfa19e2d077",
   "metadata": {},
   "outputs": [
    {
     "name": "stdout",
     "output_type": "stream",
     "text": [
      "(4, 1)\n",
      "(4, 4)\n",
      "(4, 2)\n",
      "(4, 4)\n",
      "[[43.13354526]\n",
      " [40.08585053]\n",
      " [16.0569543 ]\n",
      " [20.04881797]]\n"
     ]
    },
    {
     "name": "stderr",
     "output_type": "stream",
     "text": [
      "/tmp/ipykernel_1158377/1059972482.py:5: RuntimeWarning: covariance is not symmetric positive-semidefinite.\n",
      "  U=np.random.multivariate_normal([0,0,0,0],Q).reshape((4,1))\n"
     ]
    },
    {
     "ename": "ValueError",
     "evalue": "could not broadcast input array from shape (4,1) into shape (4,)",
     "output_type": "error",
     "traceback": [
      "\u001b[0;31m---------------------------------------------------------------------------\u001b[0m",
      "\u001b[0;31mValueError\u001b[0m                                Traceback (most recent call last)",
      "Cell \u001b[0;32mIn[50], line 3\u001b[0m\n\u001b[1;32m      1\u001b[0m vecteur_x\u001b[38;5;241m=\u001b[39mcreer_trajectoire()\n\u001b[1;32m      2\u001b[0m vecteur_y\u001b[38;5;241m=\u001b[39mcreer_observation(vecteur_x)\n\u001b[0;32m----> 3\u001b[0m x_est\u001b[38;5;241m=\u001b[39m\u001b[43mkalman_recursif\u001b[49m\u001b[43m(\u001b[49m\u001b[43mvecteur_y\u001b[49m\u001b[43m,\u001b[49m\u001b[43mx_init\u001b[49m\u001b[43m)\u001b[49m\n",
      "Cell \u001b[0;32mIn[49], line 6\u001b[0m, in \u001b[0;36mkalman_recursif\u001b[0;34m(vecteur_y, vecteur_y0, x_kalm, P_kalm, T)\u001b[0m\n\u001b[1;32m      4\u001b[0m \u001b[38;5;28;01mfor\u001b[39;00m n \u001b[38;5;129;01min\u001b[39;00m \u001b[38;5;28mrange\u001b[39m(\u001b[38;5;241m1\u001b[39m,T):\n\u001b[1;32m      5\u001b[0m     x_kalm,P_kalm\u001b[38;5;241m=\u001b[39mfiltre_de_kalman(vecteur_y[:,n],x_kalm,P_kalm)\n\u001b[0;32m----> 6\u001b[0m     \u001b[43mx_est\u001b[49m\u001b[43m[\u001b[49m\u001b[43m:\u001b[49m\u001b[43m,\u001b[49m\u001b[43mn\u001b[49m\u001b[43m]\u001b[49m\u001b[38;5;241m=\u001b[39mx_kalm\n\u001b[1;32m      7\u001b[0m \u001b[38;5;28;01mreturn\u001b[39;00m x_est\n",
      "\u001b[0;31mValueError\u001b[0m: could not broadcast input array from shape (4,1) into shape (4,)"
     ]
    }
   ],
   "source": [
    "vecteur_x=creer_trajectoire()\n",
    "vecteur_y=creer_observation(vecteur_x)\n",
    "x_est=kalman_recursif(vecteur_y,x_init)"
   ]
  },
  {
   "cell_type": "code",
   "execution_count": 11,
   "id": "4c51a62d-34a0-44f4-b74d-20db5ab1d056",
   "metadata": {},
   "outputs": [],
   "source": [
    "dfx=pd.DataFrame(vecteur_x.T,columns=['px','px.','py','py.'])\n",
    "dfy=pd.DataFrame(vecteur_y.T,columns=['Opx','Opy'])\n",
    "df=pd.concat([dfx,dfy],axis=1)"
   ]
  },
  {
   "cell_type": "code",
   "execution_count": 12,
   "id": "7f063298-ec1a-4a6b-9b53-5954d742f4f0",
   "metadata": {},
   "outputs": [
    {
     "data": {
      "text/html": [
       "<div>\n",
       "<style scoped>\n",
       "    .dataframe tbody tr th:only-of-type {\n",
       "        vertical-align: middle;\n",
       "    }\n",
       "\n",
       "    .dataframe tbody tr th {\n",
       "        vertical-align: top;\n",
       "    }\n",
       "\n",
       "    .dataframe thead th {\n",
       "        text-align: right;\n",
       "    }\n",
       "</style>\n",
       "<table border=\"1\" class=\"dataframe\">\n",
       "  <thead>\n",
       "    <tr style=\"text-align: right;\">\n",
       "      <th></th>\n",
       "      <th>px</th>\n",
       "      <th>px.</th>\n",
       "      <th>py</th>\n",
       "      <th>py.</th>\n",
       "      <th>Opx</th>\n",
       "      <th>Opy</th>\n",
       "    </tr>\n",
       "  </thead>\n",
       "  <tbody>\n",
       "    <tr>\n",
       "      <th>0</th>\n",
       "      <td>42.912057</td>\n",
       "      <td>39.886057</td>\n",
       "      <td>17.818172</td>\n",
       "      <td>21.049397</td>\n",
       "      <td>43.176429</td>\n",
       "      <td>12.923129</td>\n",
       "    </tr>\n",
       "    <tr>\n",
       "      <th>1</th>\n",
       "      <td>82.260531</td>\n",
       "      <td>38.304445</td>\n",
       "      <td>39.219065</td>\n",
       "      <td>20.243097</td>\n",
       "      <td>107.826676</td>\n",
       "      <td>46.514248</td>\n",
       "    </tr>\n",
       "    <tr>\n",
       "      <th>2</th>\n",
       "      <td>118.859672</td>\n",
       "      <td>36.157739</td>\n",
       "      <td>60.983573</td>\n",
       "      <td>21.671614</td>\n",
       "      <td>125.229680</td>\n",
       "      <td>88.242496</td>\n",
       "    </tr>\n",
       "    <tr>\n",
       "      <th>3</th>\n",
       "      <td>155.293812</td>\n",
       "      <td>37.068676</td>\n",
       "      <td>82.297509</td>\n",
       "      <td>21.320402</td>\n",
       "      <td>128.050354</td>\n",
       "      <td>113.873403</td>\n",
       "    </tr>\n",
       "    <tr>\n",
       "      <th>4</th>\n",
       "      <td>192.477406</td>\n",
       "      <td>38.183539</td>\n",
       "      <td>103.645066</td>\n",
       "      <td>21.953149</td>\n",
       "      <td>180.416350</td>\n",
       "      <td>44.850775</td>\n",
       "    </tr>\n",
       "    <tr>\n",
       "      <th>...</th>\n",
       "      <td>...</td>\n",
       "      <td>...</td>\n",
       "      <td>...</td>\n",
       "      <td>...</td>\n",
       "      <td>...</td>\n",
       "      <td>...</td>\n",
       "    </tr>\n",
       "    <tr>\n",
       "      <th>95</th>\n",
       "      <td>3551.515086</td>\n",
       "      <td>40.161296</td>\n",
       "      <td>1979.677762</td>\n",
       "      <td>21.416453</td>\n",
       "      <td>3558.686293</td>\n",
       "      <td>1943.113836</td>\n",
       "    </tr>\n",
       "    <tr>\n",
       "      <th>96</th>\n",
       "      <td>3592.135833</td>\n",
       "      <td>41.449023</td>\n",
       "      <td>2000.591585</td>\n",
       "      <td>20.310430</td>\n",
       "      <td>3651.413275</td>\n",
       "      <td>1964.318876</td>\n",
       "    </tr>\n",
       "    <tr>\n",
       "      <th>97</th>\n",
       "      <td>3633.171219</td>\n",
       "      <td>41.163818</td>\n",
       "      <td>2021.633440</td>\n",
       "      <td>21.222905</td>\n",
       "      <td>3655.687814</td>\n",
       "      <td>1963.892150</td>\n",
       "    </tr>\n",
       "    <tr>\n",
       "      <th>98</th>\n",
       "      <td>3674.236750</td>\n",
       "      <td>41.285023</td>\n",
       "      <td>2043.249369</td>\n",
       "      <td>21.263345</td>\n",
       "      <td>3675.715319</td>\n",
       "      <td>2055.368939</td>\n",
       "    </tr>\n",
       "    <tr>\n",
       "      <th>99</th>\n",
       "      <td>3713.852956</td>\n",
       "      <td>37.793299</td>\n",
       "      <td>2063.022786</td>\n",
       "      <td>19.185602</td>\n",
       "      <td>3725.760075</td>\n",
       "      <td>2019.869013</td>\n",
       "    </tr>\n",
       "  </tbody>\n",
       "</table>\n",
       "<p>100 rows × 6 columns</p>\n",
       "</div>"
      ],
      "text/plain": [
       "             px        px.           py        py.          Opx          Opy\n",
       "0     42.912057  39.886057    17.818172  21.049397    43.176429    12.923129\n",
       "1     82.260531  38.304445    39.219065  20.243097   107.826676    46.514248\n",
       "2    118.859672  36.157739    60.983573  21.671614   125.229680    88.242496\n",
       "3    155.293812  37.068676    82.297509  21.320402   128.050354   113.873403\n",
       "4    192.477406  38.183539   103.645066  21.953149   180.416350    44.850775\n",
       "..          ...        ...          ...        ...          ...          ...\n",
       "95  3551.515086  40.161296  1979.677762  21.416453  3558.686293  1943.113836\n",
       "96  3592.135833  41.449023  2000.591585  20.310430  3651.413275  1964.318876\n",
       "97  3633.171219  41.163818  2021.633440  21.222905  3655.687814  1963.892150\n",
       "98  3674.236750  41.285023  2043.249369  21.263345  3675.715319  2055.368939\n",
       "99  3713.852956  37.793299  2063.022786  19.185602  3725.760075  2019.869013\n",
       "\n",
       "[100 rows x 6 columns]"
      ]
     },
     "execution_count": 12,
     "metadata": {},
     "output_type": "execute_result"
    }
   ],
   "source": [
    "df"
   ]
  },
  {
   "cell_type": "code",
   "execution_count": 13,
   "id": "844702fa-8861-4989-b8e4-427319adeeae",
   "metadata": {},
   "outputs": [
    {
     "data": {
      "image/png": "[encoded data removed]",
      "text/plain": [
       "<Figure size 640x480 with 1 Axes>"
      ]
     },
     "metadata": {},
     "output_type": "display_data"
    }
   ],
   "source": [
    "# Assuming df is your DataFrame\n",
    "plt.plot(df['px'], df['py'], label='reel')\n",
    "plt.plot(df['Opx'], df['Opy'], label='observation')\n",
    "\n",
    "# Set labels and title\n",
    "plt.xlabel('X-axis label')\n",
    "plt.ylabel('Y-axis label')\n",
    "plt.title('reel vs observation')\n",
    "\n",
    "# Show legend\n",
    "plt.legend()\n",
    "\n",
    "# Show the plot\n",
    "plt.show()\n"
   ]
  },
  {
   "cell_type": "code",
   "execution_count": null,
   "id": "6d328d76-d898-4cdf-a97c-87e471bef853",
   "metadata": {},
   "outputs": [],
   "source": [
    "df"
   ]
  },
  {
   "cell_type": "code",
   "execution_count": null,
   "id": "7499ed89-5ff8-45f4-a4f7-9304f1b201fa",
   "metadata": {},
   "outputs": [],
   "source": []
  }
 ],
 "metadata": {
  "kernelspec": {
   "display_name": "Python 3 (ipykernel)",
   "language": "python",
   "name": "python3"
  },
  "language_info": {
   "codemirror_mode": {
    "name": "ipython",
    "version": 3
   },
   "file_extension": ".py",
   "mimetype": "text/x-python",
   "name": "python",
   "nbconvert_exporter": "python",
   "pygments_lexer": "ipython3",
   "version": "3.12.0"
  }
 },
 "nbformat": 4,
 "nbformat_minor": 5
}
