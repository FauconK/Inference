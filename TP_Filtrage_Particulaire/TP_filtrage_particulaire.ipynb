{
 "cells": [
  {
   "cell_type": "code",
   "execution_count": 1,
   "id": "e0610bcf",
   "metadata": {},
   "outputs": [],
   "source": [
    "import scipy.io\n",
    "import numpy as np\n",
    "import matplotlib.pyplot as plt\n",
    "import matplotlib.patches as ptch\n",
    "import matplotlib.image as mpimg\n",
    "from PIL import Image\n",
    "import math\n",
    "from scipy.stats import norm\n",
    "from numpy.random import random\n",
    "from sklearn.cluster import KMeans\n",
    "from sklearn.metrics import pairwise_distances_argmin\n",
    "from sklearn.datasets import load_sample_image\n",
    "from sklearn.utils import shuffle\n",
    "import os"
   ]
  },
  {
   "cell_type": "code",
   "execution_count": 2,
   "id": "0bdcaedb",
   "metadata": {},
   "outputs": [],
   "source": [
    "N = 5000\n",
    "Q = 10\n",
    "R = 1\n",
    "T= 10000"
   ]
  },
  {
   "cell_type": "code",
   "execution_count": 3,
   "id": "1ce19e80",
   "metadata": {},
   "outputs": [],
   "source": [
    "def trajectoire(T,Q):\n",
    "    x_0_T = np.array([0.0 for n in range(T+1)])\n",
    "    x_0_T[0]=norm.rvs(0,1)\n",
    "    for i in range(1,T+1):\n",
    "        xn_1=x_0_T[i-1]\n",
    "        x_0_T[i]=xn_1*0.5 + 25*xn_1/(1+xn_1**2)+8*np.cos(1.2*i)+norm.rvs(0,Q)\n",
    "    return x_0_T"
   ]
  },
  {
   "cell_type": "code",
   "execution_count": 4,
   "id": "bbb91769",
   "metadata": {},
   "outputs": [],
   "source": [
    "def observation(T,R,x_0_T):\n",
    "    y_0_T=np.array([0.0 for n in range (T+1)])\n",
    "    for i in range(T+1):\n",
    "        y_0_T[i]=(x_0_T[i]**2)/20+norm.rvs(0,R)\n",
    "    return y_0_T"
   ]
  },
  {
   "cell_type": "code",
   "execution_count": 5,
   "id": "4425f415",
   "metadata": {},
   "outputs": [],
   "source": [
    "def poids(x,mu,sigma):\n",
    "    res=1/np.sqrt(2*np.pi*sigma)\n",
    "    res=res*np.exp(-0.5*((x-mu)**2)/np.sqrt(sigma))\n",
    "    return res"
   ]
  },
  {
   "cell_type": "code",
   "execution_count": 6,
   "id": "c897b601",
   "metadata": {},
   "outputs": [],
   "source": [
    "def filtrage_particulaire(N,T,y_0_T):\n",
    "    Particule=norm.rvs(0,1,N)\n",
    "    Poids=np.ones(N)/N\n",
    "    Xn=np.zeros(T+1)\n",
    "    for t in range(T+1):\n",
    "        propag=Particule*0.5+25*Particule/(1+Particule**2)+8*np.cos(1.2*t)+norm.rvs(0,Q,N)\n",
    "        for n in range(N):\n",
    "            Poids[n]=poids(y_0_T[t],(propag[n]**2)/20,R)\n",
    "        tot=np.sum(Poids)\n",
    "        if tot!=0:\n",
    "            Poids/=tot\n",
    "        else:\n",
    "            Poids=np.ones(N)/N\n",
    "        pick=np.random.choice(N,N,p=Poids)\n",
    "        Particule=propag[pick]\n",
    "        Xn[t]=np.sum(Particule*Poids)\n",
    "        Poids=np.ones(N)/N\n",
    "    return Xn"
   ]
  },
  {
   "cell_type": "code",
   "execution_count": null,
   "id": "6938553c",
   "metadata": {
    "scrolled": false
   },
   "outputs": [],
   "source": [
    "x_0_T=trajectoire(T,Q)\n",
    "y_0_T=observation(T,R,x_0_T)\n",
    "Xn=filtrage_particulaire(N,T,y_0_T)\n",
    "\n",
    "plt.plot(x_0_T,label=\"x_0_T\")\n",
    "plt.plot(y_0_T,label=\"y_0_T\")\n",
    "plt.plot(Xn,label=\"Xn\")\n",
    "\n",
    "plt.legend()"
   ]
  },
  {
   "cell_type": "code",
   "execution_count": null,
   "id": "d455c9eb",
   "metadata": {},
   "outputs": [],
   "source": [
    "plt.plot(x_0_T-Xn)"
   ]
  },
  {
   "cell_type": "code",
   "execution_count": null,
   "id": "25ca39eb",
   "metadata": {},
   "outputs": [],
   "source": [
    "np.std(x_0_T-Xn)"
   ]
  },
  {
   "cell_type": "code",
   "execution_count": null,
   "id": "a66f6869",
   "metadata": {},
   "outputs": [],
   "source": []
  },
  {
   "cell_type": "code",
   "execution_count": null,
   "id": "ee5bfbd4",
   "metadata": {},
   "outputs": [],
   "source": []
  }
 ],
 "metadata": {
  "kernelspec": {
   "display_name": "Python 3 (ipykernel)",
   "language": "python",
   "name": "python3"
  },
  "language_info": {
   "codemirror_mode": {
    "name": "ipython",
    "version": 3
   },
   "file_extension": ".py",
   "mimetype": "text/x-python",
   "name": "python",
   "nbconvert_exporter": "python",
   "pygments_lexer": "ipython3",
   "version": "3.10.12"
  }
 },
 "nbformat": 4,
 "nbformat_minor": 5
}
